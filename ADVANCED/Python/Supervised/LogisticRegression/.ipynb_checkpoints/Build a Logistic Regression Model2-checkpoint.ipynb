{
 "cells": [
  {
   "cell_type": "code",
   "execution_count": 2,
   "metadata": {},
   "outputs": [],
   "source": [
    "import pandas as pd\n",
    "from sklearn.model_selection import train_test_split\n",
    "import numpy as np\n",
    "from sklearn.linear_model import LogisticRegression\n",
    "from sklearn.metrics import accuracy_score, precision_score, recall_score, f1_score, precision_recall_fscore_support, confusion_matrix, roc_curve, roc_auc_score\n",
    "import matplotlib.pyplot as plt"
   ]
  },
  {
   "cell_type": "code",
   "execution_count": 3,
   "metadata": {},
   "outputs": [],
   "source": [
    "# Define Specifity score\n",
    "\n",
    "def specificity_score(y_true, y_pred):\n",
    "    p, r, f, s = precision_recall_fscore_support(y_true, y_pred)\n",
    "    return r[0]\n",
    "\n",
    "# Define Sensitivity Score\n",
    "\n",
    "def sensitivity_score(y_true, y_pred):\n",
    "    p, r, f, s = precision_recall_fscore_support(y_true, y_pred)\n",
    "    return p, r, f, s"
   ]
  },
  {
   "cell_type": "code",
   "execution_count": 4,
   "metadata": {},
   "outputs": [
    {
     "data": {
      "text/html": [
       "<div>\n",
       "<style scoped>\n",
       "    .dataframe tbody tr th:only-of-type {\n",
       "        vertical-align: middle;\n",
       "    }\n",
       "\n",
       "    .dataframe tbody tr th {\n",
       "        vertical-align: top;\n",
       "    }\n",
       "\n",
       "    .dataframe thead th {\n",
       "        text-align: right;\n",
       "    }\n",
       "</style>\n",
       "<table border=\"1\" class=\"dataframe\">\n",
       "  <thead>\n",
       "    <tr style=\"text-align: right;\">\n",
       "      <th></th>\n",
       "      <th>Survived</th>\n",
       "      <th>Pclass</th>\n",
       "      <th>Sex</th>\n",
       "      <th>Age</th>\n",
       "      <th>Siblings/Spouses</th>\n",
       "      <th>Parents/Children</th>\n",
       "      <th>Fare</th>\n",
       "    </tr>\n",
       "  </thead>\n",
       "  <tbody>\n",
       "    <tr>\n",
       "      <th>0</th>\n",
       "      <td>0</td>\n",
       "      <td>3</td>\n",
       "      <td>True</td>\n",
       "      <td>22.0</td>\n",
       "      <td>1</td>\n",
       "      <td>0</td>\n",
       "      <td>7.2500</td>\n",
       "    </tr>\n",
       "    <tr>\n",
       "      <th>1</th>\n",
       "      <td>1</td>\n",
       "      <td>1</td>\n",
       "      <td>False</td>\n",
       "      <td>38.0</td>\n",
       "      <td>1</td>\n",
       "      <td>0</td>\n",
       "      <td>71.2833</td>\n",
       "    </tr>\n",
       "    <tr>\n",
       "      <th>2</th>\n",
       "      <td>1</td>\n",
       "      <td>3</td>\n",
       "      <td>False</td>\n",
       "      <td>26.0</td>\n",
       "      <td>0</td>\n",
       "      <td>0</td>\n",
       "      <td>7.9250</td>\n",
       "    </tr>\n",
       "    <tr>\n",
       "      <th>3</th>\n",
       "      <td>1</td>\n",
       "      <td>1</td>\n",
       "      <td>False</td>\n",
       "      <td>35.0</td>\n",
       "      <td>1</td>\n",
       "      <td>0</td>\n",
       "      <td>53.1000</td>\n",
       "    </tr>\n",
       "    <tr>\n",
       "      <th>4</th>\n",
       "      <td>0</td>\n",
       "      <td>3</td>\n",
       "      <td>True</td>\n",
       "      <td>35.0</td>\n",
       "      <td>0</td>\n",
       "      <td>0</td>\n",
       "      <td>8.0500</td>\n",
       "    </tr>\n",
       "    <tr>\n",
       "      <th>...</th>\n",
       "      <td>...</td>\n",
       "      <td>...</td>\n",
       "      <td>...</td>\n",
       "      <td>...</td>\n",
       "      <td>...</td>\n",
       "      <td>...</td>\n",
       "      <td>...</td>\n",
       "    </tr>\n",
       "    <tr>\n",
       "      <th>882</th>\n",
       "      <td>0</td>\n",
       "      <td>2</td>\n",
       "      <td>True</td>\n",
       "      <td>27.0</td>\n",
       "      <td>0</td>\n",
       "      <td>0</td>\n",
       "      <td>13.0000</td>\n",
       "    </tr>\n",
       "    <tr>\n",
       "      <th>883</th>\n",
       "      <td>1</td>\n",
       "      <td>1</td>\n",
       "      <td>False</td>\n",
       "      <td>19.0</td>\n",
       "      <td>0</td>\n",
       "      <td>0</td>\n",
       "      <td>30.0000</td>\n",
       "    </tr>\n",
       "    <tr>\n",
       "      <th>884</th>\n",
       "      <td>0</td>\n",
       "      <td>3</td>\n",
       "      <td>False</td>\n",
       "      <td>7.0</td>\n",
       "      <td>1</td>\n",
       "      <td>2</td>\n",
       "      <td>23.4500</td>\n",
       "    </tr>\n",
       "    <tr>\n",
       "      <th>885</th>\n",
       "      <td>1</td>\n",
       "      <td>1</td>\n",
       "      <td>True</td>\n",
       "      <td>26.0</td>\n",
       "      <td>0</td>\n",
       "      <td>0</td>\n",
       "      <td>30.0000</td>\n",
       "    </tr>\n",
       "    <tr>\n",
       "      <th>886</th>\n",
       "      <td>0</td>\n",
       "      <td>3</td>\n",
       "      <td>True</td>\n",
       "      <td>32.0</td>\n",
       "      <td>0</td>\n",
       "      <td>0</td>\n",
       "      <td>7.7500</td>\n",
       "    </tr>\n",
       "  </tbody>\n",
       "</table>\n",
       "<p>887 rows × 7 columns</p>\n",
       "</div>"
      ],
      "text/plain": [
       "     Survived  Pclass    Sex   Age  Siblings/Spouses  Parents/Children  \\\n",
       "0           0       3   True  22.0                 1                 0   \n",
       "1           1       1  False  38.0                 1                 0   \n",
       "2           1       3  False  26.0                 0                 0   \n",
       "3           1       1  False  35.0                 1                 0   \n",
       "4           0       3   True  35.0                 0                 0   \n",
       "..        ...     ...    ...   ...               ...               ...   \n",
       "882         0       2   True  27.0                 0                 0   \n",
       "883         1       1  False  19.0                 0                 0   \n",
       "884         0       3  False   7.0                 1                 2   \n",
       "885         1       1   True  26.0                 0                 0   \n",
       "886         0       3   True  32.0                 0                 0   \n",
       "\n",
       "        Fare  \n",
       "0     7.2500  \n",
       "1    71.2833  \n",
       "2     7.9250  \n",
       "3    53.1000  \n",
       "4     8.0500  \n",
       "..       ...  \n",
       "882  13.0000  \n",
       "883  30.0000  \n",
       "884  23.4500  \n",
       "885  30.0000  \n",
       "886   7.7500  \n",
       "\n",
       "[887 rows x 7 columns]"
      ]
     },
     "execution_count": 4,
     "metadata": {},
     "output_type": "execute_result"
    }
   ],
   "source": [
    "df = pd.read_csv('https://sololearn.com/uploads/files/titanic.csv')\n",
    "df['Sex'] = df['Sex'] == 'male'\n",
    "df"
   ]
  },
  {
   "cell_type": "code",
   "execution_count": 5,
   "metadata": {},
   "outputs": [],
   "source": [
    "X = df[['Pclass', 'Sex', 'Age', 'Siblings/Spouses', 'Parents/Children', 'Fare']].values\n",
    "y = df['Survived'].values"
   ]
  },
  {
   "cell_type": "code",
   "execution_count": 6,
   "metadata": {},
   "outputs": [
    {
     "data": {
      "text/html": [
       "<style>#sk-container-id-1 {color: black;background-color: white;}#sk-container-id-1 pre{padding: 0;}#sk-container-id-1 div.sk-toggleable {background-color: white;}#sk-container-id-1 label.sk-toggleable__label {cursor: pointer;display: block;width: 100%;margin-bottom: 0;padding: 0.3em;box-sizing: border-box;text-align: center;}#sk-container-id-1 label.sk-toggleable__label-arrow:before {content: \"▸\";float: left;margin-right: 0.25em;color: #696969;}#sk-container-id-1 label.sk-toggleable__label-arrow:hover:before {color: black;}#sk-container-id-1 div.sk-estimator:hover label.sk-toggleable__label-arrow:before {color: black;}#sk-container-id-1 div.sk-toggleable__content {max-height: 0;max-width: 0;overflow: hidden;text-align: left;background-color: #f0f8ff;}#sk-container-id-1 div.sk-toggleable__content pre {margin: 0.2em;color: black;border-radius: 0.25em;background-color: #f0f8ff;}#sk-container-id-1 input.sk-toggleable__control:checked~div.sk-toggleable__content {max-height: 200px;max-width: 100%;overflow: auto;}#sk-container-id-1 input.sk-toggleable__control:checked~label.sk-toggleable__label-arrow:before {content: \"▾\";}#sk-container-id-1 div.sk-estimator input.sk-toggleable__control:checked~label.sk-toggleable__label {background-color: #d4ebff;}#sk-container-id-1 div.sk-label input.sk-toggleable__control:checked~label.sk-toggleable__label {background-color: #d4ebff;}#sk-container-id-1 input.sk-hidden--visually {border: 0;clip: rect(1px 1px 1px 1px);clip: rect(1px, 1px, 1px, 1px);height: 1px;margin: -1px;overflow: hidden;padding: 0;position: absolute;width: 1px;}#sk-container-id-1 div.sk-estimator {font-family: monospace;background-color: #f0f8ff;border: 1px dotted black;border-radius: 0.25em;box-sizing: border-box;margin-bottom: 0.5em;}#sk-container-id-1 div.sk-estimator:hover {background-color: #d4ebff;}#sk-container-id-1 div.sk-parallel-item::after {content: \"\";width: 100%;border-bottom: 1px solid gray;flex-grow: 1;}#sk-container-id-1 div.sk-label:hover label.sk-toggleable__label {background-color: #d4ebff;}#sk-container-id-1 div.sk-serial::before {content: \"\";position: absolute;border-left: 1px solid gray;box-sizing: border-box;top: 0;bottom: 0;left: 50%;z-index: 0;}#sk-container-id-1 div.sk-serial {display: flex;flex-direction: column;align-items: center;background-color: white;padding-right: 0.2em;padding-left: 0.2em;position: relative;}#sk-container-id-1 div.sk-item {position: relative;z-index: 1;}#sk-container-id-1 div.sk-parallel {display: flex;align-items: stretch;justify-content: center;background-color: white;position: relative;}#sk-container-id-1 div.sk-item::before, #sk-container-id-1 div.sk-parallel-item::before {content: \"\";position: absolute;border-left: 1px solid gray;box-sizing: border-box;top: 0;bottom: 0;left: 50%;z-index: -1;}#sk-container-id-1 div.sk-parallel-item {display: flex;flex-direction: column;z-index: 1;position: relative;background-color: white;}#sk-container-id-1 div.sk-parallel-item:first-child::after {align-self: flex-end;width: 50%;}#sk-container-id-1 div.sk-parallel-item:last-child::after {align-self: flex-start;width: 50%;}#sk-container-id-1 div.sk-parallel-item:only-child::after {width: 0;}#sk-container-id-1 div.sk-dashed-wrapped {border: 1px dashed gray;margin: 0 0.4em 0.5em 0.4em;box-sizing: border-box;padding-bottom: 0.4em;background-color: white;}#sk-container-id-1 div.sk-label label {font-family: monospace;font-weight: bold;display: inline-block;line-height: 1.2em;}#sk-container-id-1 div.sk-label-container {text-align: center;}#sk-container-id-1 div.sk-container {/* jupyter's `normalize.less` sets `[hidden] { display: none; }` but bootstrap.min.css set `[hidden] { display: none !important; }` so we also need the `!important` here to be able to override the default hidden behavior on the sphinx rendered scikit-learn.org. See: https://github.com/scikit-learn/scikit-learn/issues/21755 */display: inline-block !important;position: relative;}#sk-container-id-1 div.sk-text-repr-fallback {display: none;}</style><div id=\"sk-container-id-1\" class=\"sk-top-container\"><div class=\"sk-text-repr-fallback\"><pre>LogisticRegression()</pre><b>In a Jupyter environment, please rerun this cell to show the HTML representation or trust the notebook. <br />On GitHub, the HTML representation is unable to render, please try loading this page with nbviewer.org.</b></div><div class=\"sk-container\" hidden><div class=\"sk-item\"><div class=\"sk-estimator sk-toggleable\"><input class=\"sk-toggleable__control sk-hidden--visually\" id=\"sk-estimator-id-1\" type=\"checkbox\" checked><label for=\"sk-estimator-id-1\" class=\"sk-toggleable__label sk-toggleable__label-arrow\">LogisticRegression</label><div class=\"sk-toggleable__content\"><pre>LogisticRegression()</pre></div></div></div></div></div>"
      ],
      "text/plain": [
       "LogisticRegression()"
      ]
     },
     "execution_count": 6,
     "metadata": {},
     "output_type": "execute_result"
    }
   ],
   "source": [
    "X_train, X_test, y_train, y_test = train_test_split(X, y, test_size=0.2, random_state=1)\n",
    "\n",
    "Model = LogisticRegression()\n",
    "\n",
    "Model.fit(X_train, y_train)"
   ]
  },
  {
   "cell_type": "code",
   "execution_count": 7,
   "metadata": {},
   "outputs": [
    {
     "data": {
      "text/plain": [
       "0.7921348314606742"
      ]
     },
     "execution_count": 7,
     "metadata": {},
     "output_type": "execute_result"
    }
   ],
   "source": [
    "predict = Model.predict(X_test) \n",
    "Model.score(X_test, y_test)"
   ]
  },
  {
   "cell_type": "code",
   "execution_count": 9,
   "metadata": {},
   "outputs": [
    {
     "name": "stdout",
     "output_type": "stream",
     "text": [
      "Accuracy :  0.7921348314606742\n",
      "Recall :  0.7222222222222222\n",
      "Precision :  0.7536231884057971\n",
      "F1 :  0.7375886524822696\n"
     ]
    }
   ],
   "source": [
    "print('Accuracy : ', accuracy_score(y_test, predict))\n",
    "print('Recall : ', recall_score(y_test, predict))\n",
    "print('Precision : ', precision_score(y_test, predict))\n",
    "print('F1 : ', f1_score(y_test, predict))\n"
   ]
  },
  {
   "cell_type": "code",
   "execution_count": null,
   "metadata": {},
   "outputs": [
    {
     "name": "stdout",
     "output_type": "stream",
     "text": [
      "Sensitivity :  (array([0.81651376, 0.75362319]), array([0.83962264, 0.72222222]), array([0.82790698, 0.73758865]), array([106,  72], dtype=int64))\n",
      "Specificity :  0.839622641509434\n"
     ]
    }
   ],
   "source": [
    "print('Sensitivity : ', sensitivity_score(y_test, predict))\n",
    "print('Specificity : ', specificity_score(y_test, predict))"
   ]
  },
  {
   "cell_type": "code",
   "execution_count": null,
   "metadata": {},
   "outputs": [
    {
     "name": "stdout",
     "output_type": "stream",
     "text": [
      "[[89 17]\n",
      " [20 52]]\n"
     ]
    }
   ],
   "source": [
    "print(confusion_matrix(y_test, predict))"
   ]
  },
  {
   "cell_type": "code",
   "execution_count": null,
   "metadata": {},
   "outputs": [
    {
     "data": {
      "text/plain": [
       "array([[0.94288626, 0.05711374],\n",
       "       [0.20186303, 0.79813697],\n",
       "       [0.49279281, 0.50720719],\n",
       "       [0.19724265, 0.80275735],\n",
       "       [0.47467823, 0.52532177],\n",
       "       [0.11276598, 0.88723402],\n",
       "       [0.57922859, 0.42077141],\n",
       "       [0.93844176, 0.06155824],\n",
       "       [0.04751351, 0.95248649],\n",
       "       [0.39298397, 0.60701603],\n",
       "       [0.96303566, 0.03696434],\n",
       "       [0.54455947, 0.45544053],\n",
       "       [0.67753149, 0.32246851],\n",
       "       [0.91034604, 0.08965396],\n",
       "       [0.57975219, 0.42024781],\n",
       "       [0.87993508, 0.12006492],\n",
       "       [0.02894769, 0.97105231],\n",
       "       [0.08847418, 0.91152582],\n",
       "       [0.05593218, 0.94406782],\n",
       "       [0.49758995, 0.50241005],\n",
       "       [0.90146769, 0.09853231],\n",
       "       [0.51225879, 0.48774121],\n",
       "       [0.03494929, 0.96505071],\n",
       "       [0.86619932, 0.13380068],\n",
       "       [0.8975437 , 0.1024563 ],\n",
       "       [0.28929665, 0.71070335],\n",
       "       [0.35605841, 0.64394159],\n",
       "       [0.84736048, 0.15263952],\n",
       "       [0.34592718, 0.65407282],\n",
       "       [0.45490619, 0.54509381],\n",
       "       [0.69025628, 0.30974372],\n",
       "       [0.67229876, 0.32770124],\n",
       "       [0.62884539, 0.37115461],\n",
       "       [0.88451244, 0.11548756],\n",
       "       [0.74078248, 0.25921752],\n",
       "       [0.90000454, 0.09999546],\n",
       "       [0.85379397, 0.14620603],\n",
       "       [0.38272925, 0.61727075],\n",
       "       [0.23094788, 0.76905212],\n",
       "       [0.92470092, 0.07529908],\n",
       "       [0.38182332, 0.61817668],\n",
       "       [0.34590869, 0.65409131],\n",
       "       [0.85964975, 0.14035025],\n",
       "       [0.80775028, 0.19224972],\n",
       "       [0.80977029, 0.19022971],\n",
       "       [0.9563665 , 0.0436335 ],\n",
       "       [0.1089699 , 0.8910301 ],\n",
       "       [0.92262006, 0.07737994],\n",
       "       [0.92599937, 0.07400063],\n",
       "       [0.90359048, 0.09640952],\n",
       "       [0.84090641, 0.15909359],\n",
       "       [0.35343711, 0.64656289],\n",
       "       [0.8536715 , 0.1463285 ],\n",
       "       [0.8192175 , 0.1807825 ],\n",
       "       [0.77760456, 0.22239544],\n",
       "       [0.91650478, 0.08349522],\n",
       "       [0.69176034, 0.30823966],\n",
       "       [0.94324482, 0.05675518],\n",
       "       [0.86594655, 0.13405345],\n",
       "       [0.84722478, 0.15277522],\n",
       "       [0.90146769, 0.09853231],\n",
       "       [0.85974014, 0.14025986],\n",
       "       [0.94195549, 0.05804451],\n",
       "       [0.89749986, 0.10250014],\n",
       "       [0.86588802, 0.13411198],\n",
       "       [0.9416003 , 0.0583997 ],\n",
       "       [0.2459735 , 0.7540265 ],\n",
       "       [0.27161983, 0.72838017],\n",
       "       [0.33831043, 0.66168957],\n",
       "       [0.86619144, 0.13380856],\n",
       "       [0.26040562, 0.73959438],\n",
       "       [0.36837405, 0.63162595],\n",
       "       [0.92780107, 0.07219893],\n",
       "       [0.28066718, 0.71933282],\n",
       "       [0.76016513, 0.23983487],\n",
       "       [0.88778976, 0.11221024],\n",
       "       [0.84626955, 0.15373045],\n",
       "       [0.23871923, 0.76128077],\n",
       "       [0.34251707, 0.65748293],\n",
       "       [0.33836347, 0.66163653],\n",
       "       [0.57228772, 0.42771228],\n",
       "       [0.84626955, 0.15373045],\n",
       "       [0.57628161, 0.42371839],\n",
       "       [0.73639447, 0.26360553],\n",
       "       [0.28239384, 0.71760616],\n",
       "       [0.68931098, 0.31068902],\n",
       "       [0.68850613, 0.31149387],\n",
       "       [0.75079861, 0.24920139],\n",
       "       [0.23607506, 0.76392494],\n",
       "       [0.4733925 , 0.5266075 ],\n",
       "       [0.90651374, 0.09348626],\n",
       "       [0.94682195, 0.05317805],\n",
       "       [0.86588802, 0.13411198],\n",
       "       [0.34631563, 0.65368437],\n",
       "       [0.76477781, 0.23522219],\n",
       "       [0.54692821, 0.45307179],\n",
       "       [0.03799757, 0.96200243],\n",
       "       [0.90663709, 0.09336291],\n",
       "       [0.19026892, 0.80973108],\n",
       "       [0.69060758, 0.30939242],\n",
       "       [0.28796219, 0.71203781],\n",
       "       [0.87476955, 0.12523045],\n",
       "       [0.85375144, 0.14624856],\n",
       "       [0.90752812, 0.09247188],\n",
       "       [0.85998961, 0.14001039],\n",
       "       [0.87096021, 0.12903979],\n",
       "       [0.84729002, 0.15270998],\n",
       "       [0.08499236, 0.91500764],\n",
       "       [0.44520426, 0.55479574],\n",
       "       [0.90890103, 0.09109897],\n",
       "       [0.67753149, 0.32246851],\n",
       "       [0.89770016, 0.10229984],\n",
       "       [0.93396054, 0.06603946],\n",
       "       [0.34305622, 0.65694378],\n",
       "       [0.78584927, 0.21415073],\n",
       "       [0.82445876, 0.17554124],\n",
       "       [0.86377499, 0.13622501],\n",
       "       [0.48421523, 0.51578477],\n",
       "       [0.16946459, 0.83053541],\n",
       "       [0.90161089, 0.09838911],\n",
       "       [0.26890396, 0.73109604],\n",
       "       [0.60243084, 0.39756916],\n",
       "       [0.34388351, 0.65611649],\n",
       "       [0.8662388 , 0.1337612 ],\n",
       "       [0.38646448, 0.61353552],\n",
       "       [0.3165077 , 0.6834923 ],\n",
       "       [0.84159723, 0.15840277],\n",
       "       [0.04516972, 0.95483028],\n",
       "       [0.12021095, 0.87978905],\n",
       "       [0.91466871, 0.08533129],\n",
       "       [0.71958559, 0.28041441],\n",
       "       [0.84834984, 0.15165016],\n",
       "       [0.21343303, 0.78656697],\n",
       "       [0.36488859, 0.63511141],\n",
       "       [0.87527124, 0.12472876],\n",
       "       [0.44880041, 0.55119959],\n",
       "       [0.93548964, 0.06451036],\n",
       "       [0.85989117, 0.14010883],\n",
       "       [0.97039917, 0.02960083],\n",
       "       [0.31057888, 0.68942112],\n",
       "       [0.06259094, 0.93740906],\n",
       "       [0.93563703, 0.06436297],\n",
       "       [0.9219029 , 0.0780971 ],\n",
       "       [0.9443435 , 0.0556565 ],\n",
       "       [0.82432825, 0.17567175],\n",
       "       [0.26114092, 0.73885908],\n",
       "       [0.29570041, 0.70429959],\n",
       "       [0.17080073, 0.82919927],\n",
       "       [0.47955277, 0.52044723],\n",
       "       [0.90461155, 0.09538845],\n",
       "       [0.32335883, 0.67664117],\n",
       "       [0.40523746, 0.59476254],\n",
       "       [0.63212366, 0.36787634],\n",
       "       [0.49608606, 0.50391394],\n",
       "       [0.62924341, 0.37075659],\n",
       "       [0.10982369, 0.89017631],\n",
       "       [0.85373446, 0.14626554],\n",
       "       [0.95169722, 0.04830278],\n",
       "       [0.9021052 , 0.0978948 ],\n",
       "       [0.44157352, 0.55842648],\n",
       "       [0.76974466, 0.23025534],\n",
       "       [0.50867543, 0.49132457],\n",
       "       [0.95517324, 0.04482676],\n",
       "       [0.55005471, 0.44994529],\n",
       "       [0.82648479, 0.17351521],\n",
       "       [0.94071242, 0.05928758],\n",
       "       [0.8925012 , 0.1074988 ],\n",
       "       [0.7682945 , 0.2317055 ],\n",
       "       [0.18297816, 0.81702184],\n",
       "       [0.47194959, 0.52805041],\n",
       "       [0.93864099, 0.06135901],\n",
       "       [0.18031184, 0.81968816],\n",
       "       [0.2347137 , 0.7652863 ],\n",
       "       [0.87113528, 0.12886472],\n",
       "       [0.90122789, 0.09877211],\n",
       "       [0.20154103, 0.79845897],\n",
       "       [0.01771751, 0.98228249],\n",
       "       [0.84722478, 0.15277522]])"
      ]
     },
     "execution_count": 9,
     "metadata": {},
     "output_type": "execute_result"
    }
   ],
   "source": [
    "y_pre = Model.predict_proba(X_test)\n",
    "\n",
    "y_pre"
   ]
  },
  {
   "cell_type": "code",
   "execution_count": null,
   "metadata": {},
   "outputs": [
    {
     "data": {
      "image/png": "[encoded data removed]",
      "text/plain": [
       "<Figure size 432x288 with 1 Axes>"
      ]
     },
     "metadata": {
      "needs_background": "light"
     },
     "output_type": "display_data"
    }
   ],
   "source": [
    "tpr, fpr, threshold = roc_curve(y_test, y_pre[:,1])\n",
    "\n",
    "plt.plot(fpr, tpr)\n",
    "plt.plot([0, 1], [0, 1], linestyle='--')\n",
    "plt.xlim([0.0, 1.0])\n",
    "plt.ylim([0.0, 1.0])\n",
    "plt.xlabel('1 - Specificity')\n",
    "plt.ylabel('Sensitivity')\n",
    "plt.show()"
   ]
  },
  {
   "cell_type": "code",
   "execution_count": null,
   "metadata": {},
   "outputs": [],
   "source": [
    "plt.sho"
   ]
  }
 ],
 "metadata": {
  "kernelspec": {
   "display_name": "Python 3 (ipykernel)",
   "language": "python",
   "name": "python3"
  },
  "language_info": {
   "codemirror_mode": {
    "name": "ipython",
    "version": 3
   },
   "file_extension": ".py",
   "mimetype": "text/x-python",
   "name": "python",
   "nbconvert_exporter": "python",
   "pygments_lexer": "ipython3",
   "version": "3.9.12"
  },
  "vscode": {
   "interpreter": {
    "hash": "26de051ba29f2982a8de78e945f0abaf191376122a1563185a90213a26c5da77"
   }
  }
 },
 "nbformat": 4,
 "nbformat_minor": 2
}
