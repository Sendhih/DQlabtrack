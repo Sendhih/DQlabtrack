{
 "cells": [
  {
   "cell_type": "code",
   "execution_count": 14,
   "id": "7afc6ab5",
   "metadata": {},
   "outputs": [],
   "source": [
    "from sklearn.model_selection import train_test_split\n",
    "from sklearn.ensemble import RandomForestClassifier\n",
    "from sklearn.linear_model import LogisticRegression\n",
    "import pandas as pd\n",
    "from sklearn.datasets import make_circles\n",
    "from sklearn.model_selection import KFold\n",
    "import numpy as np"
   ]
  },
  {
   "cell_type": "markdown",
   "id": "51c700c8",
   "metadata": {},
   "source": [
    "Function makeCircles makes a concentric circles "
   ]
  },
  {
   "cell_type": "code",
   "execution_count": 15,
   "id": "ac6e7e06",
   "metadata": {},
   "outputs": [],
   "source": [
    "X, y = make_circles(noise=0.2, random_state=1, factor=0.5)"
   ]
  },
  {
   "cell_type": "markdown",
   "id": "72ed03f4",
   "metadata": {},
   "source": [
    "SEPARATE DATA USING KFOLD"
   ]
  },
  {
   "cell_type": "code",
   "execution_count": 16,
   "id": "0ec23655",
   "metadata": {},
   "outputs": [],
   "source": [
    "kf = KFold(n_splits=5, shuffle=True, random_state=1)\n",
    "lr_score = []\n",
    "rf_score = []"
   ]
  },
  {
   "cell_type": "markdown",
   "id": "ed6aa947",
   "metadata": {},
   "source": [
    "BUILD MODEL AND LOOP THE MODEL"
   ]
  },
  {
   "cell_type": "code",
   "execution_count": 19,
   "id": "36514364",
   "metadata": {},
   "outputs": [
    {
     "name": "stdout",
     "output_type": "stream",
     "text": [
      "Score LogisticRegression : 0.36\n",
      "Score RandomForest : 0.82\n"
     ]
    }
   ],
   "source": [
    "for train, test in kf.split(X):\n",
    "    X_train, X_test = X[train], X[test]\n",
    "    y_train, y_test = y[train], y[test]\n",
    "    lr_model = LogisticRegression(solver='lbfgs')\n",
    "    lr_model.fit(X_train, y_train)\n",
    "    lr_score.append(lr_model.score(X_test, y_test))\n",
    "    rf_model = RandomForestClassifier(n_estimators=10)\n",
    "    rf_model.fit(X_train, y_train)\n",
    "    rf_score.append(rf_model.score(X_test, y_test))\n",
    "    \n",
    "print(F\"Score LogisticRegression : {np.mean(lr_score)}\")\n",
    "print(F\"Score RandomForest : {np.mean(rf_score)}\")"
   ]
  }
 ],
 "metadata": {
  "kernelspec": {
   "display_name": "Python 3 (ipykernel)",
   "language": "python",
   "name": "python3"
  },
  "language_info": {
   "codemirror_mode": {
    "name": "ipython",
    "version": 3
   },
   "file_extension": ".py",
   "mimetype": "text/x-python",
   "name": "python",
   "nbconvert_exporter": "python",
   "pygments_lexer": "ipython3",
   "version": "3.9.12"
  }
 },
 "nbformat": 4,
 "nbformat_minor": 5
}
