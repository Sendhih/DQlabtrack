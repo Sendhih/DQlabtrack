{
 "cells": [
  {
   "cell_type": "code",
   "execution_count": 1,
   "metadata": {},
   "outputs": [
    {
     "name": "stdout",
     "output_type": "stream",
     "text": [
      "Don Doo\n"
     ]
    }
   ],
   "source": [
    "class Pegawai:\n",
    "    pass  # definisi class kosong\n",
    " \n",
    "don = Pegawai()  # membuat Pegawai baru menjadi objek bernama don\n",
    " \n",
    "# tambahkan item data pada objek sebagai record\n",
    "don.nama = 'Don Doo'\n",
    "don.bagian = 'IT'\n",
    "don.gaji = 999\n",
    "print(don.nama)"
   ]
  },
  {
   "cell_type": "code",
   "execution_count": 2,
   "metadata": {},
   "outputs": [
    {
     "name": "stdout",
     "output_type": "stream",
     "text": [
      "5\n"
     ]
    }
   ],
   "source": [
    "def fib(x):\n",
    "  if x == 0 or x == 1:\n",
    "    return 1\n",
    "  else: \n",
    "    return (x-1) + (x-2)\n",
    "print(fib(4))"
   ]
  },
  {
   "cell_type": "code",
   "execution_count": 3,
   "metadata": {},
   "outputs": [
    {
     "name": "stdout",
     "output_type": "stream",
     "text": [
      "1\n"
     ]
    }
   ],
   "source": [
    "list = [1, 2, 3, 4]\n",
    "\n",
    "if len(list) % 2 == 0:\n",
    "    print(list[0])"
   ]
  },
  {
   "cell_type": "code",
   "execution_count": 5,
   "metadata": {},
   "outputs": [
    {
     "name": "stdout",
     "output_type": "stream",
     "text": [
      "1\n",
      "Solo\n"
     ]
    }
   ],
   "source": [
    "n = int(input())\n",
    "\n",
    "for x in range(1, n, 2):\n",
    "    if x % 3 == 0 and x % 5 == 0:\n",
    "        print(\"SoloLearn\")\n",
    "    elif x % 3 == 0:\n",
    "        print(\"Solo\")\n",
    "    elif x % 5 == 0:\n",
    "        print(\"Learn\")\n",
    "    else:\n",
    "        print(x)"
   ]
  },
  {
   "cell_type": "code",
   "execution_count": 7,
   "metadata": {},
   "outputs": [
    {
     "name": "stdout",
     "output_type": "stream",
     "text": [
      "James is 42\n"
     ]
    }
   ],
   "source": [
    "contacts = [\n",
    "    ('James', 42),\n",
    "    ('Amy', 24),\n",
    "    ('John', 31),\n",
    "    ('Amanda', 63),\n",
    "    ('Bob', 18)\n",
    "]\n",
    "\n",
    "inp = input()\n",
    "    \n",
    "for x in contacts:\n",
    "    if inp in x:\n",
    "        print(x[0] + \" is \" + str(x[1]))\n",
    "        break       \n",
    "else:\n",
    "    print(\"Not Found\")"
   ]
  },
  {
   "cell_type": "code",
   "execution_count": null,
   "metadata": {},
   "outputs": [
    {
     "ename": "TypeError",
     "evalue": "'list' object is not callable",
     "output_type": "error",
     "traceback": [
      "\u001b[1;31m---------------------------------------------------------------------------\u001b[0m",
      "\u001b[1;31mTypeError\u001b[0m                                 Traceback (most recent call last)",
      "\u001b[1;32mc:\\Users\\PC\\DQlabtrack\\ADVANCED\\Python\\hackrank.ipynb Cell 5\u001b[0m in \u001b[0;36m<cell line: 4>\u001b[1;34m()\u001b[0m\n\u001b[0;32m      <a href='vscode-notebook-cell:/c%3A/Users/PC/DQlabtrack/ADVANCED/Python/hackrank.ipynb#W4sZmlsZQ%3D%3D?line=0'>1</a>\u001b[0m skills \u001b[39m=\u001b[39m {\u001b[39m'\u001b[39m\u001b[39mPython\u001b[39m\u001b[39m'\u001b[39m, \u001b[39m'\u001b[39m\u001b[39mHTML\u001b[39m\u001b[39m'\u001b[39m, \u001b[39m'\u001b[39m\u001b[39mSQL\u001b[39m\u001b[39m'\u001b[39m, \u001b[39m'\u001b[39m\u001b[39mC++\u001b[39m\u001b[39m'\u001b[39m, \u001b[39m'\u001b[39m\u001b[39mJava\u001b[39m\u001b[39m'\u001b[39m, \u001b[39m'\u001b[39m\u001b[39mScala\u001b[39m\u001b[39m'\u001b[39m}\n\u001b[0;32m      <a href='vscode-notebook-cell:/c%3A/Users/PC/DQlabtrack/ADVANCED/Python/hackrank.ipynb#W4sZmlsZQ%3D%3D?line=1'>2</a>\u001b[0m job_skills \u001b[39m=\u001b[39m {\u001b[39m'\u001b[39m\u001b[39mHTML\u001b[39m\u001b[39m'\u001b[39m, \u001b[39m'\u001b[39m\u001b[39mCSS\u001b[39m\u001b[39m'\u001b[39m, \u001b[39m'\u001b[39m\u001b[39mJS\u001b[39m\u001b[39m'\u001b[39m, \u001b[39m'\u001b[39m\u001b[39mC#\u001b[39m\u001b[39m'\u001b[39m, \u001b[39m'\u001b[39m\u001b[39mNodeJS\u001b[39m\u001b[39m'\u001b[39m}\n\u001b[1;32m----> <a href='vscode-notebook-cell:/c%3A/Users/PC/DQlabtrack/ADVANCED/Python/hackrank.ipynb#W4sZmlsZQ%3D%3D?line=3'>4</a>\u001b[0m \u001b[39mprint\u001b[39m(\u001b[39mlist\u001b[39;49m(skills \u001b[39m&\u001b[39;49m job_skills))\n",
      "\u001b[1;31mTypeError\u001b[0m: 'list' object is not callable"
     ]
    }
   ],
   "source": [
    "skills = {'Python', 'HTML', 'SQL', 'C++', 'Java', 'Scala'}\n",
    "job_skills = {'HTML', 'CSS', 'JS', 'C#', 'NodeJS'}\n",
    "\n",
    "print(list(skills & job_skills))"
   ]
  },
  {
   "cell_type": "markdown",
   "metadata": {},
   "source": [
    "When to use a dictionary:\n",
    "- When you need a logical association between a key:value pair.\n",
    "- When you need fast lookup for your data, based on a custom key.\n",
    "- When your data is being constantly modified. Remember, dictionaries are mutable.\n",
    "\n",
    "When to use the other types:\n",
    "- Use lists if you have a collection of data that does not need random access. Try to choose lists when you need a simple, iterable collection that is modified frequently.\n",
    "- Use a set if you need uniqueness for the elements.\n",
    "- Use tuples when your data cannot/should not change.\n",
    "Many times, a tuple is used in combination with a dictionary, for example, a tuple might represent a key, because it's immutable."
   ]
  },
  {
   "cell_type": "code",
   "execution_count": null,
   "metadata": {},
   "outputs": [
    {
     "name": "stdout",
     "output_type": "stream",
     "text": [
      "Diskonan\n"
     ]
    },
    {
     "data": {
      "text/plain": [
       "315000.0"
      ]
     },
     "execution_count": 4,
     "metadata": {},
     "output_type": "execute_result"
    }
   ],
   "source": [
    "harga = int(input(\"Harganya\"))\n",
    "perc = int(input(\"berapa persen\"))\n",
    "\n",
    "def diskon(x, y):\n",
    "    print(\"Diskonan\")\n",
    "    ds = x*y/100\n",
    "    return ds\n",
    "\n",
    "diskon(harga, perc)\n",
    "    "
   ]
  },
  {
   "cell_type": "code",
   "execution_count": null,
   "metadata": {},
   "outputs": [],
   "source": [
    "def prims():\n",
    "    num = 2\n",
    "    while True:\n",
    "        if prims(num):\n",
    "            yield num\n",
    "        num += 1"
   ]
  },
  {
   "cell_type": "code",
   "execution_count": null,
   "metadata": {},
   "outputs": [
    {
     "name": "stdout",
     "output_type": "stream",
     "text": [
      "[2, 3]\n"
     ]
    }
   ],
   "source": [
    "def isPrime(x):\n",
    "    if x < 2:\n",
    "        return False\n",
    "    elif x == 2:\n",
    "        return True  \n",
    "    for n in range(2, x):\n",
    "        if x % n ==0:\n",
    "            return False\n",
    "    return True\n",
    "\n",
    "def primeGenerator(a, b):\n",
    "    #your code goes here\n",
    "    for i in range(a, b):\n",
    "        if isPrime(i):\n",
    "            yield i\n",
    "     \n",
    "f = int(input())\n",
    "t = int(input())\n",
    "\n",
    "print(list(primeGenerator(f, t)))"
   ]
  },
  {
   "cell_type": "code",
   "execution_count": null,
   "metadata": {},
   "outputs": [
    {
     "name": "stdout",
     "output_type": "stream",
     "text": [
      "******\n",
      "*****\n",
      "****\n",
      "***\n",
      "**\n",
      "*\n",
      "**\n",
      "***\n",
      "****\n",
      "*****\n"
     ]
    }
   ],
   "source": [
    "for i in range(5, 0 , -1):\n",
    "    for j in range(i + 1):\n",
    "        print(\"*\", end=\"\")\n",
    "    print(\"\")\n",
    "for i in range(5):\n",
    "    for j in range(i + 1):\n",
    "        print(\"*\", end=\"\")\n",
    "    print(\"\")"
   ]
  },
  {
   "cell_type": "code",
   "execution_count": null,
   "metadata": {},
   "outputs": [
    {
     "name": "stdout",
     "output_type": "stream",
     "text": [
      "*****\n",
      "****\n",
      "***\n",
      "**\n",
      "*\n"
     ]
    }
   ],
   "source": [
    "num = int(input())\n",
    "\n",
    "for i in range(num, 0, -1):\n",
    "    print(\"*\" * i)"
   ]
  },
  {
   "cell_type": "code",
   "execution_count": null,
   "metadata": {},
   "outputs": [
    {
     "name": "stdout",
     "output_type": "stream",
     "text": [
      "a\n",
      "t\n",
      "i\n",
      "b\n",
      "o\n",
      "n\n"
     ]
    }
   ],
   "source": [
    "def spell(txt):\n",
    "    #your code goes here\n",
    "    if len(txt) == 1:\n",
    "        return txt\n",
    "    else:\n",
    "        print(txt[len(txt)-1]) \n",
    "        return spell(txt[0:len(txt)-1])\n",
    "\n",
    "txt = input()\n",
    "print(spell(txt))\n"
   ]
  },
  {
   "cell_type": "code",
   "execution_count": null,
   "metadata": {},
   "outputs": [
    {
     "name": "stdout",
     "output_type": "stream",
     "text": [
      "0\n",
      "1\n",
      "2\n",
      "3\n"
     ]
    }
   ],
   "source": [
    "# print('H' * 1)\n",
    "\n",
    "thickness = int(input())\n",
    "# for i in range((thickness+1)//2):\n",
    "#     print(i)\n",
    "for i in range(thickness-1):\n",
    "    print(i)"
   ]
  },
  {
   "cell_type": "code",
   "execution_count": null,
   "metadata": {},
   "outputs": [
    {
     "name": "stdout",
     "output_type": "stream",
     "text": [
      "    H    \n",
      "   HHH   \n",
      "  HHHHH  \n",
      " HHHHHHH \n",
      "HHHHHHHHH\n",
      "  HHHHH               HHHHH             \n",
      "  HHHHH               HHHHH             \n",
      "  HHHHH               HHHHH             \n",
      "  HHHHH               HHHHH             \n",
      "  HHHHH               HHHHH             \n",
      "  HHHHH               HHHHH             \n",
      "  HHHHHHHHHHHHHHHHHHHHHHHHH   \n",
      "  HHHHHHHHHHHHHHHHHHHHHHHHH   \n",
      "  HHHHHHHHHHHHHHHHHHHHHHHHH   \n",
      "  HHHHH               HHHHH             \n",
      "  HHHHH               HHHHH             \n",
      "  HHHHH               HHHHH             \n",
      "  HHHHH               HHHHH             \n",
      "  HHHHH               HHHHH             \n",
      "  HHHHH               HHHHH             \n",
      "                    HHHHHHHHH \n",
      "                     HHHHHHH  \n",
      "                      HHHHH   \n",
      "                       HHH    \n",
      "                        H     \n"
     ]
    }
   ],
   "source": [
    "# trin = \"python\"\n",
    "\n",
    "# l = list(trin)\n",
    "# print(l)\n",
    "thickness = int(input()) #This must be an odd number\n",
    "c = 'H'\n",
    "\n",
    "for i in range(thickness):\n",
    "    z = (c*i).rjust(thickness-1)+c+(c*i).ljust(thickness-1)\n",
    "    print(z)\n",
    "    \n",
    "for i in range(thickness+1):\n",
    "    print((c*thickness).center(thickness*2)+(c*thickness).center(thickness*6))\n",
    "\n",
    "for i in range((thickness+1)//2):\n",
    "    print((c*thickness*5).center(thickness*6))\n",
    "\n",
    "for i in range(thickness+1):\n",
    "    print((c*thickness).center(thickness*2)+(c*thickness).center(thickness*6))\n",
    "\n",
    "for i in range(thickness):\n",
    "    print(((c*(thickness-i-1)).rjust(thickness)+c+(c*(thickness-i-1)).ljust(thickness)).rjust(thickness*6))\n"
   ]
  },
  {
   "cell_type": "code",
   "execution_count": null,
   "metadata": {},
   "outputs": [
    {
     "name": "stdout",
     "output_type": "stream",
     "text": [
      "['run']\n"
     ]
    }
   ],
   "source": [
    "re = ['run', 1, ' realize']\n",
    "\n",
    "print(re[:])"
   ]
  },
  {
   "cell_type": "markdown",
   "metadata": {},
   "source": [
    "GAME SEDERHANA"
   ]
  },
  {
   "cell_type": "code",
   "execution_count": null,
   "metadata": {},
   "outputs": [
    {
     "name": "stdout",
     "output_type": "stream",
     "text": [
      "Alien has 4 lives\n",
      "Alien has 3 lives\n"
     ]
    },
    {
     "ename": "ValueError",
     "evalue": "You noot send the input",
     "output_type": "error",
     "traceback": [
      "\u001b[1;31m---------------------------------------------------------------------------\u001b[0m",
      "\u001b[1;31mValueError\u001b[0m                                Traceback (most recent call last)",
      "\u001b[1;32mc:\\Users\\PC\\DQlabtrack\\ADVANCED\\Python\\hackrank.ipynb Cell 18\u001b[0m in \u001b[0;36m<cell line: 27>\u001b[1;34m()\u001b[0m\n\u001b[0;32m     <a href='vscode-notebook-cell:/c%3A/Users/PC/DQlabtrack/ADVANCED/Python/hackrank.ipynb#X23sZmlsZQ%3D%3D?line=33'>34</a>\u001b[0m   m\u001b[39m.\u001b[39mhit()\n\u001b[0;32m     <a href='vscode-notebook-cell:/c%3A/Users/PC/DQlabtrack/ADVANCED/Python/hackrank.ipynb#X23sZmlsZQ%3D%3D?line=34'>35</a>\u001b[0m \u001b[39melse\u001b[39;00m:\n\u001b[1;32m---> <a href='vscode-notebook-cell:/c%3A/Users/PC/DQlabtrack/ADVANCED/Python/hackrank.ipynb#X23sZmlsZQ%3D%3D?line=35'>36</a>\u001b[0m   \u001b[39mraise\u001b[39;00m \u001b[39mValueError\u001b[39;00m(\u001b[39m\"\u001b[39m\u001b[39mYou noot send the input\u001b[39m\u001b[39m\"\u001b[39m)\n",
      "\u001b[1;31mValueError\u001b[0m: You noot send the input"
     ]
    }
   ],
   "source": [
    "class Enemy:\n",
    "  name = \"\"\n",
    "  lives = 0\n",
    "  def __init__(self, name, lives):\n",
    "    self.name = name\n",
    "    self.lives = lives\n",
    "\n",
    "  def hit(self):\n",
    "    self.lives -= 1\n",
    "    if self.lives <= 0:\n",
    "       print(self.name + ' killed')\n",
    "    else:\n",
    "        print(self.name + ' has '+ str(self.lives) + ' lives')\n",
    "\n",
    "class Monster(Enemy):\n",
    "  def __init__(self):\n",
    "    super().__init__('Monster', 3)\n",
    "\n",
    "class Alien(Enemy):\n",
    "  def __init__(self):\n",
    "    super().__init__('Alien', 5)\n",
    "\n",
    "\n",
    "m = Monster()\n",
    "a = Alien()\n",
    "\n",
    "while True:\n",
    "    x = input()\n",
    "    if x == 'exit':\n",
    "        break\n",
    "    elif x == 'laser':\n",
    "      a.hit()\n",
    "    elif x == 'gun':\n",
    "      m.hit()\n",
    "    else:\n",
    "      raise ValueError(\"You noot send the input\")\n",
    "    \n"
   ]
  },
  {
   "cell_type": "code",
   "execution_count": null,
   "metadata": {},
   "outputs": [
    {
     "name": "stdout",
     "output_type": "stream",
     "text": [
      "mean : 23.0\n",
      "Median : 22.0\n",
      "Standard Deviasi : 6.342099196813483\n",
      "Variance : 40.22222222222222\n",
      "25 th : 18.0\n",
      "75 th : 29.0\n",
      "50 th : 22.0\n"
     ]
    }
   ],
   "source": [
    "import numpy as np\n",
    "\n",
    "\n",
    "data = [15, 16, 18, 19, 22, 24, 29, 30, 34]\n",
    "\n",
    "\n",
    "print(f\"mean : {np.mean(data)}\")\n",
    "print(f\"Median : {np.median(data)}\")\n",
    "print(f\"Standard Deviasi : {np.std(data)}\")\n",
    "print(f\"Variance : {np.var(data)}\")\n",
    "print(f\"25 th : {np.percentile(data,25)}\")\n",
    "print(f\"75 th : {np.percentile(data, 75)}\")\n",
    "print(f\"50 th : {np.percentile(data, 50)}\")"
   ]
  },
  {
   "cell_type": "code",
   "execution_count": null,
   "metadata": {},
   "outputs": [
    {
     "name": "stdout",
     "output_type": "stream",
     "text": [
      "1\n",
      "3\n"
     ]
    }
   ],
   "source": [
    "try:\n",
    "    print(1)\n",
    "    print(1 + \"1\" == 2)  # type: ignore\n",
    "except TypeError:\n",
    "    print(3)"
   ]
  },
  {
   "cell_type": "code",
   "execution_count": null,
   "metadata": {},
   "outputs": [
    {
     "name": "stdout",
     "output_type": "stream",
     "text": [
      "2\n",
      "3\n"
     ]
    }
   ],
   "source": [
    "x = 0\n",
    "try:\n",
    "  x+=1\n",
    "  raise ValueError\n",
    "\n",
    "except NameError:\n",
    "  x+=1\n",
    "  print(x)\n",
    "except ValueError:\n",
    "  x+=1\n",
    "  print(x)\n",
    "else:\n",
    "  x+=1\n",
    "  print(x)\n",
    "finally:\n",
    "  x+=1\n",
    "  print(x)\n"
   ]
  },
  {
   "cell_type": "code",
   "execution_count": 11,
   "metadata": {},
   "outputs": [
    {
     "name": "stdout",
     "output_type": "stream",
     "text": [
      "G\n",
      "O\n",
      "T\n",
      "E\n",
      "D\n",
      "A\n",
      "W\n",
      "P\n",
      "F\n",
      "B\n"
     ]
    }
   ],
   "source": [
    "word = [\"Game Of Thrones\", \"Exploratory Data Analysis\", \"With Python For Beginner\"]\n",
    "\n",
    "for i in word:\n",
    "    for z in i.split(\" \"):\n",
    "        print(z[0], end=\"\")\n",
    "        print(\"\")"
   ]
  },
  {
   "cell_type": "code",
   "execution_count": 2,
   "metadata": {},
   "outputs": [
    {
     "name": "stdout",
     "output_type": "stream",
     "text": [
      "['Game', 'Of', 'Thrones']\n"
     ]
    }
   ],
   "source": [
    "word = \"Game Of Thrones\"\n",
    "\n",
    "print(word.split())"
   ]
  },
  {
   "cell_type": "code",
   "execution_count": 68,
   "metadata": {},
   "outputs": [
    {
     "name": "stdout",
     "output_type": "stream",
     "text": [
      "0      \n",
      "1     10\n",
      "2    1010\n",
      "3   101010\n",
      "4  10101010\n"
     ]
    }
   ],
   "source": [
    "n = int(input())\n",
    "\n",
    "for i in range(0, n):\n",
    "    print(i, ' '*(n-(i+1)), '10' * i)"
   ]
  },
  {
   "cell_type": "code",
   "execution_count": 64,
   "metadata": {},
   "outputs": [
    {
     "name": "stdout",
     "output_type": "stream",
     "text": [
      "0 1 \n",
      "1 1 0\n",
      "2 1 00\n",
      "3 1 000\n",
      "4 1 0000\n"
     ]
    }
   ],
   "source": [
    "n = int(input())\n",
    "\n",
    "for i in range(n):\n",
    "    print(i, 1, '0' *i)"
   ]
  },
  {
   "cell_type": "code",
   "execution_count": 3,
   "metadata": {},
   "outputs": [
    {
     "name": "stdout",
     "output_type": "stream",
     "text": [
      "6\n"
     ]
    }
   ],
   "source": [
    "z = [1, 0 ,0 , 1, 0, 1]\n",
    "\n",
    "Sum = len(z)\n",
    "print(Sum)"
   ]
  }
 ],
 "metadata": {
  "kernelspec": {
   "display_name": "Python 3 (ipykernel)",
   "language": "python",
   "name": "python3"
  },
  "language_info": {
   "codemirror_mode": {
    "name": "ipython",
    "version": 3
   },
   "file_extension": ".py",
   "mimetype": "text/x-python",
   "name": "python",
   "nbconvert_exporter": "python",
   "pygments_lexer": "ipython3",
   "version": "3.9.12"
  },
  "vscode": {
   "interpreter": {
    "hash": "26de051ba29f2982a8de78e945f0abaf191376122a1563185a90213a26c5da77"
   }
  }
 },
 "nbformat": 4,
 "nbformat_minor": 2
}
